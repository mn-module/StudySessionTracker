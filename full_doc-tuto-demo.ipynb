{
 "cells": [
  {
   "cell_type": "markdown",
   "id": "10435d05-4403-45a5-8a59-ca9ce55754d7",
   "metadata": {},
   "source": [
    "## Introduction to StudySession\n",
    "\n",
    "Welcome to the StudySession class documentation! This Jupyter Notebook is designed to give you a comprehensive overview of the StudySession class, an intuitive and user-friendly tool for tracking study or work hours. Whether you are a student, a professional, or anyone who needs to manage their time effectively, the StudySession class is tailored to help you monitor your productivity with ease."
   ]
  },
  {
   "cell_type": "code",
   "execution_count": 1,
   "id": "74b70485-35c8-4f69-ba05-729a4bcbb355",
   "metadata": {},
   "outputs": [],
   "source": [
    "# Class StudySession"
   ]
  },
  {
   "cell_type": "markdown",
   "id": "7bed885b-d4a8-410f-9544-a1ea5b640ab3",
   "metadata": {},
   "source": [
    "### What is StudySession?\n",
    "\n",
    "The StudySession class is a part of my first open-source project, developed with the aim of providing a simple yet powerful tool for tracking study or work sessions. It's perfect for those who want to keep a disciplined track of their study hours and manage their time efficiently. It comes with a bunch of cool features like start, stop, pause, resume, discard, and reset. Pretty neat, right?"
   ]
  },
  {
   "cell_type": "markdown",
   "id": "cffc267c-cfdb-455e-bf22-4571d8a9aa7b",
   "metadata": {},
   "source": [
    "### In this documentation, we'll be using two terms that are similar but refer to different concepts:\n",
    "\n",
    "**StudySession (Class)**: This is the class we're discussing. It's a blueprint for creating and managing study-session objects.\n",
    "\n",
    "**study-session (Instance)**: When we create an object using the StudySession class, we'll refer to it as a 'study-session'. It represents an individual instance of the StudySession class.\n",
    "\n",
    "*I'm using this terminology because I prefer not to repeat the word 'instance' too often. Referring to it as a 'study-session' instead of 'instance' is clearer and more concise, don’t you think? You might wonder why I use 'study-session' instead of 'study session.' The reason is that 'study session' has a different meaning, referring to the actual period of study being tracked.*\n",
    "\n",
    "*For example: if you start studying at 9:00 AM and stop at 10:00 AM, you've studied for 1 hour, and that period is what we call a 'study session'. But when you use this class and create an instance, that instance is what I refer to as a 'study-session'. Essentially, what you're doing is tracking your study session with a 'study-session'. I hope you've got it. Haha!*"
   ]
  },
  {
   "cell_type": "markdown",
   "id": "50966a5e-e382-497e-9ac2-f7ccba52783a",
   "metadata": {},
   "source": [
    "### Properties of the StudySession Class\n",
    "\n",
    "The `StudySession` class comes with a set of properties that help manage and track various aspects of a study period. Understanding these properties is key to effectively utilizing the class. Here’s a breakdown of each property:\n",
    "\n",
    "***just reminder: study-session = the instance of the StudySession***\n",
    "\n",
    "### `subject_name`\n",
    "- **Description:** The name of the subject or topic of the study-session.\n",
    "- **Data Type:** `str`\n",
    "- **Usage:** \n",
    "  ```python\n",
    "  session.subject_name = \"Mathematics\"\n",
    "  ```\n",
    "\n",
    "### `timezone`\n",
    "- **Description:** The timezone in which the study-session is taking place.\n",
    "- **Data Type:** `pytz.timezone`\n",
    "- **Usage:** \n",
    "  ```python\n",
    "  session.timezone = pytz.timezone(\"America/New_York\") # the study-session's state must be in 'INACTIVE' state!\n",
    "  ```\n",
    "  \n",
    "### `start_time`\n",
    "- **Description:** The time when the study-session started.\n",
    "- **Data Type:** `datetime.datetime` or `None`\n",
    "- **Details:** This is `None` when in the 'INACTIVE' state and a `datetime.datetime` object when the session is in other states.\n",
    "- **Usage:** \n",
    "  ```python\n",
    "  start_time = session.start_time\n",
    "  ```\n",
    "\n",
    "### `stop_time`\n",
    "- **Description:** The time when the study-session was stopped.\n",
    "- **Data Type:** `datetime.datetime` or `None`\n",
    "- **Details:** This is only a `datetime.datetime` object in the 'STOPPED' state; otherwise, it's `None`.\n",
    "- **Usage:** \n",
    "  ```python\n",
    "  stop_time = session.stop_time\n",
    "  ```\n",
    "\n",
    "### `pause_resume_times`\n",
    "- **Description:** A list of timestamp pairs indicating when the study-session was paused and resumed.\n",
    "- **Data Type:** `list` of `tuple` (each tuple containing two `datetime.datetime` objects or `None`)\n",
    "- **Usage:** \n",
    "  ```python\n",
    "  session.pause_resume_times.append((pause_time, resume_time))\n",
    "  ```\n",
    "\n",
    "### `state`\n",
    "- **Description:** The current state of the study-session.\n",
    "- **Data Type:** `str`\n",
    "- **Details:** There are four possible states.\n",
    "    - INACTIVE - The initial state when an instance is created.\n",
    "    - RUNNING - This state is active when the study-session is being tracked.\n",
    "    - PAUSED - This state is active when the study-session tracking is paused.\n",
    "    -  STOPPED - This state is active when the study-session tracking is stopped.\n",
    "- **Usage:** \n",
    "  ```python\n",
    "  current_state = session.state\n",
    "  ```"
   ]
  },
  {
   "cell_type": "markdown",
   "id": "b286a386-ea96-4235-a270-617a2057431b",
   "metadata": {},
   "source": [
    "### Methods of the StudySession Class\n",
    "\n",
    "In this section, we will cover the methods available in the StudySession class.\n",
    "\n",
    "**Now let's start with the core study-session interaction methods.**\n",
    "\n",
    "### `start_tracking`\n",
    "\n",
    "- **Method Type:** Instance Method\n",
    "- **Description:** Start tracking the study-session duration. It initializes the tracking process and sets the study-session's state to 'RUNNING'.\n",
    "- **Parameters:**\n",
    "- **Returns:** `None`\n",
    "- **Raises:** `StudySessionError` - Raised if called when the study-session's state is 'RUNNING', 'PAUSED', or 'STOPPED'.\n",
    "- **Usage Example:**\n",
    "  ```python\n",
    "  session.start_tracking() # the study-session's state must be in 'INACTIVE' state!\n",
    "  ```\n",
    "\n",
    "### `stop_tracking`\n",
    "\n",
    "- **Method Type:** Instance Method\n",
    "- **Description:** Stop tracking the study-session duration. It sets the study-session's state to 'STOPPED'.\n",
    "- **Parameters:**\n",
    "- **Returns:** `None`\n",
    "- **Raises:** `StudySessionError` - Raised if called when the study-session's state is 'INACTIVE' or 'STOPPED'.\n",
    "- **Usage Example:**\n",
    "  ```python\n",
    "  session.stop_tracking() # the study-session's state must be in 'RUNNING' or 'PAUSED' state!\n",
    "  ```\n",
    "\n",
    "### `pause_tracking`\n",
    "\n",
    "- **Method Type:** Instance Method\n",
    "- **Description:** Pause tracking the study-session duration. It sets the study-session's state to 'PAUSED'.\n",
    "- **Parameters:**\n",
    "- **Returns:** `None`\n",
    "- **Raises:** `StudySessionError` - Raised if called when the study-session's state is 'INACTIVE', 'PAUSED' or 'STOPPED'.\n",
    "- **Usage Example:**\n",
    "  ```python\n",
    "  session.pause_tracking() # the study-session's state must be in 'RUNNING' state!\n",
    "  ```\n",
    "\n",
    "### `resume_tracking`\n",
    "\n",
    "- **Method Type:** Instance Method\n",
    "- **Description:** Resume tracking the study-session from a previously paused state. It sets the study-session's state to 'RUNNING'.\n",
    "- **Parameters:**\n",
    "- **Returns:** `None`\n",
    "- **Raises:** `StudySessionError` - Raised if called when the study-session's state is 'INACTIVE', 'RUNNING' or 'STOPPED'.\n",
    "- **Usage Example:**\n",
    "  ```python\n",
    "  session.resume_tracking() # the study-session's state must be in 'PAUSED' state!\n",
    "  ```\n",
    "\n",
    "### `discard_tracking`\n",
    "\n",
    "- **Method Type:** Instance Method\n",
    "- **Description:** Discard tracking the study-session. It sets the study-session's state to 'INACTIVE'.\n",
    "- **Parameters:**\n",
    "- **Returns:** `None`\n",
    "- **Raises:** `StudySessionError` - Raised if called when the study-session's state is 'INACTIVE' or 'STOPPED'.\n",
    "- **Usage Example:**\n",
    "  ```python\n",
    "  session.discard_tracking() # the study-session's state must be in 'RUNNING' or 'PAUSED' state!\n",
    "  ```\n",
    "\n",
    "### `reset_tracking`\n",
    "\n",
    "- **Method Type:** Instance Method\n",
    "- **Description:** Reset tracking the study-session data to its initial state. It also sets the study-session's state to 'INACTIVE'.\n",
    "- **Parameters:**\n",
    "- **Returns:** `None`\n",
    "- **Raises:** `StudySessionError` - Raised if called when the study-session's state is 'INACTIVE', 'RUNNING' or 'PAUSED'.\n",
    "- **Usage Example:**\n",
    "  ```python\n",
    "  session.reset_tracking() # the study-session's state must be in 'STOPPED' state!\n",
    "  ```\n",
    "\n",
    "\n",
    "**The following methods are used to do calculation.**\n",
    "\n",
    "### `get_pause_duration`\n",
    "- **Method Type:** Instance Method\n",
    "- **Description:** Calculate the pause duration for a specific pause-resume pair of the study-session.\n",
    "- **Parameters:** \n",
    "  - `idx` (`int`): The index of the pause-resume pair in the underlying `_pause_resume_times` list.\n",
    "- **Returns:** `float` - The duration of the pause in seconds.\n",
    "- **Raises:** `StudySessionError` - Raised if attempting to calculate the pause duration of an 'INACTIVE' study-session. (which means the study-session's state is 'INACTIVE'.)\n",
    "- **Usage Example:**\n",
    "  ```python\n",
    "  pause_duration = session.get_pause_duration(0) # the study-session's state must be in 'RUNNING', 'PAUSED' or 'STOPPED' state!\n",
    "  ```\n",
    "\n",
    "### `get_cumulative_pause_duration`\n",
    "- **Method Type:** Instance Method\n",
    "- **Description:** Calculate the cumulative pause duration of the study-session. This method aggregates the total time spent in pauses, providing insight into the total break time.\n",
    "- **Parameters:**\n",
    "- **Returns:** `float` - The cumulative pause duration in seconds.\n",
    "- **Raises:** `StudySessionError` - Raised if attempting to calculate the cumulative pause duration of an 'INACTIVE' study-session.\n",
    "- **Usage Example:**\n",
    "  ```python\n",
    "  total_pause_duration = session.get_cumulative_pause_duration() # the study-session's state must be in 'RUNNING', 'PAUSED' or 'STOPPED' state!\n",
    "  ```\n",
    "\n",
    "### `get_duration`\n",
    "- **Method Type:** Instance Method\n",
    "- **Description:** Calculate the total duration of the study-session. This duration includes all time spent in both active and paused states.\n",
    "- **Parameters:**\n",
    "- **Returns:** `float` - The total duration of the study-session in seconds.\n",
    "- **Raises:** `StudySessionError` - Raised if attempting to calculate the duration of an 'INACTIVE' study-session.\n",
    "- **Usage Example:**\n",
    "  ```python\n",
    "  total_duration = session.get_duration() # the study-session's state must be in 'RUNNING', 'PAUSED' or 'STOPPED' state!\n",
    "  ```\n",
    "\n",
    "### `get_active_duration`\n",
    "- **Method Type:** Instance Method\n",
    "- **Description:** Calculate the active duration of the study-session, excluding the time spent during pauses. This method calculates the total time actively spent by subtracting the cumulative pause duration from the total duration.\n",
    "- **Parameters:**\n",
    "- **Returns:** `float` - The active duration of the study-session in seconds, excluding the cumulative pause duration.\n",
    "- **Usage Example:**\n",
    "  ```python\n",
    "  active_duration = session.get_active_duration() # the study-session's state must be in 'RUNNING', 'PAUSED' or 'STOPPED' state!\n",
    "  ```\n",
    "\n",
    "### `format_time`\n",
    "- **Method Type:** Static Method\n",
    "- **Description:** Format time given in seconds into a human-readable string with the format 'hours:minutes:seconds.fraction'. This method is useful for displaying time durations in a clear and precise manner.\n",
    "- **Parameters:** \n",
    "  - `time_seconds` (`float`): The time duration in seconds to be formatted.\n",
    "- **Returns:** `str` - The formatted time string in 'hr:mm:sec.fraction' format.\n",
    "- **Usage Example:**\n",
    "  ```python\n",
    "  formatted_time = StudySession.format_time(3661.1234)\n",
    "  # Output: \"01:01:01.1234\"\n",
    "  ```"
   ]
  },
  {
   "cell_type": "markdown",
   "id": "cbb656e8-11e2-49f4-8924-88c06066bd7b",
   "metadata": {},
   "source": [
    "## Tutorial: Using the StudySession Class\n",
    "\n",
    "This tutorial will guide you through the basic usage of the StudySession class, demonstrating how to track your study hours effectively.\n",
    "\n",
    "*(Don't worry if you don't understand what I wrote above; perhaps watching this will help you understand.)*"
   ]
  },
  {
   "cell_type": "markdown",
   "id": "c925034b-ffb7-4093-b011-fe0df453a8f4",
   "metadata": {},
   "source": [
    "### Importing Modules\n",
    "\n",
    "In this part of the tutorial, we'll begin by importing the necessary modules. We need `time` for handling time-related functions, `pytz` for setting our current timezone and `StudySession` from our custom module `studysession` to manage our study-sessions."
   ]
  },
  {
   "cell_type": "code",
   "execution_count": 2,
   "id": "32d65c4c-355e-4af7-8a24-81a78785702a",
   "metadata": {},
   "outputs": [],
   "source": [
    "import time\n",
    "import pytz\n",
    "from studysession import StudySession"
   ]
  },
  {
   "cell_type": "markdown",
   "id": "98960294-7e6a-4490-ae50-f1d218ddb297",
   "metadata": {},
   "source": [
    "### Creating a StudySession Instance\n",
    "\n",
    "Once the modules are imported, we can create an instance of StudySession. What's our study subject? Let's say it's 'math'. Therefore, we will create an instance with 'math' as the subject name:"
   ]
  },
  {
   "cell_type": "code",
   "execution_count": 3,
   "id": "1c24894e-d9e0-4dbe-a7b8-b287ae1a3451",
   "metadata": {},
   "outputs": [],
   "source": [
    "session = StudySession('math')"
   ]
  },
  {
   "cell_type": "markdown",
   "id": "cee070e7-ad4d-4e5c-9d5c-7eb5d47bda4c",
   "metadata": {},
   "source": [
    "Now that we've created an instance, let's check its current time zone:"
   ]
  },
  {
   "cell_type": "code",
   "execution_count": 4,
   "id": "44a12090-564f-4a4b-9d8c-b4ae31dfd2d1",
   "metadata": {},
   "outputs": [
    {
     "data": {
      "text/plain": [
       "<UTC>"
      ]
     },
     "execution_count": 4,
     "metadata": {},
     "output_type": "execute_result"
    }
   ],
   "source": [
    "session.timezone"
   ]
  },
  {
   "cell_type": "markdown",
   "id": "7c60a38f-9b52-4264-bcff-db6a521b8d3a",
   "metadata": {},
   "source": [
    "Ah, it's set to UTC. That's because we didn't specify our timezone when creating the instance. Let's say we're in Yangon City and need to adjust the timezone accordingly. We can change our study-session's timezone like this:"
   ]
  },
  {
   "cell_type": "code",
   "execution_count": 5,
   "id": "476adde0-b326-4ead-9728-c7671977d9e2",
   "metadata": {},
   "outputs": [],
   "source": [
    "session.timezone = pytz.timezone('Asia/Yangon') # hey changing timezone only works when the study-session state is 'INACTIVE'!"
   ]
  },
  {
   "cell_type": "markdown",
   "id": "ed47387b-5688-48f1-a99d-405ee34cd5ad",
   "metadata": {},
   "source": [
    "### Start the Tracking\n",
    "\n",
    "Now that the timezone is set, it's time to study:"
   ]
  },
  {
   "cell_type": "code",
   "execution_count": 6,
   "id": "1440c2ed-b238-4912-998b-641b275a1e74",
   "metadata": {
    "scrolled": true
   },
   "outputs": [
    {
     "name": "stdout",
     "output_type": "stream",
     "text": [
      "study-session started!\n",
      "state: RUNNING\n",
      "start time: 2023-12-26 19:13:49.584205+06:30\n",
      "stop time: None\n",
      "pause/resume pairs: ()\n"
     ]
    }
   ],
   "source": [
    "session.start_tracking()\n",
    "print(\"study-session started!\")\n",
    "print(f\"state:\", session.state)\n",
    "print(f\"start time:\", session.start_time)\n",
    "print(f\"stop time:\", session.stop_time)\n",
    "print(f\"pause/resume pairs:\", session.pause_resume_times)"
   ]
  },
  {
   "cell_type": "markdown",
   "id": "7a0af5cc-2e82-4e50-814e-6ba9079ce4e6",
   "metadata": {},
   "source": [
    "### Taking a Break\n",
    "\n",
    "After some time, let's say you want to take a short break:"
   ]
  },
  {
   "cell_type": "code",
   "execution_count": 7,
   "id": "02d1fe09-5ed0-4dc1-b205-0713d6e90172",
   "metadata": {},
   "outputs": [
    {
     "name": "stdout",
     "output_type": "stream",
     "text": [
      "study-session paused. Take a break!\n",
      "state: PAUSED\n",
      "start time: 2023-12-26 19:13:49.584205+06:30\n",
      "stop time: None\n",
      "pause/resume pairs: ((datetime.datetime(2023, 12, 26, 19, 13, 55, 269572, tzinfo=<DstTzInfo 'Asia/Yangon' +0630+6:30:00 STD>), None),)\n"
     ]
    }
   ],
   "source": [
    "session.pause_tracking()\n",
    "print(\"study-session paused. Take a break!\")\n",
    "print(f\"state:\", session.state)\n",
    "print(f\"start time:\", session.start_time)\n",
    "print(f\"stop time:\", session.stop_time)\n",
    "print(f\"pause/resume pairs:\", session.pause_resume_times)"
   ]
  },
  {
   "cell_type": "markdown",
   "id": "764ec91d-a68c-4a6e-a310-e3c2db8a0e00",
   "metadata": {},
   "source": [
    "### Resume the Tracking\n",
    "\n",
    "When you're ready to continue studying:"
   ]
  },
  {
   "cell_type": "code",
   "execution_count": 8,
   "id": "ce2a4ce5-378a-43dc-8988-b34e24c11ae0",
   "metadata": {},
   "outputs": [
    {
     "name": "stdout",
     "output_type": "stream",
     "text": [
      "study-session resumed. Keep going!\n",
      "state: RUNNING\n",
      "start time: 2023-12-26 19:13:49.584205+06:30\n",
      "stop time: None\n",
      "pause/resume pairs: ((datetime.datetime(2023, 12, 26, 19, 13, 55, 269572, tzinfo=<DstTzInfo 'Asia/Yangon' +0630+6:30:00 STD>), datetime.datetime(2023, 12, 26, 19, 14, 3, 841466, tzinfo=<DstTzInfo 'Asia/Yangon' +0630+6:30:00 STD>)),)\n"
     ]
    }
   ],
   "source": [
    "session.resume_tracking()\n",
    "print(\"study-session resumed. Keep going!\")\n",
    "print(f\"state:\", session.state)\n",
    "print(f\"start time:\", session.start_time)\n",
    "print(f\"stop time:\", session.stop_time)\n",
    "print(f\"pause/resume pairs:\", session.pause_resume_times)"
   ]
  },
  {
   "cell_type": "markdown",
   "id": "a8218a30-110a-491d-9496-901782decd07",
   "metadata": {},
   "source": [
    "### End the Tracking\n",
    "\n",
    "After completing your study:"
   ]
  },
  {
   "cell_type": "code",
   "execution_count": 9,
   "id": "146a036c-8f23-40e7-9b53-d4ac0180a0d8",
   "metadata": {},
   "outputs": [
    {
     "name": "stdout",
     "output_type": "stream",
     "text": [
      "study-session stopped. Well done!\n",
      "state: STOPPED\n",
      "start time: 2023-12-26 19:13:49.584205+06:30\n",
      "stop time: 2023-12-26 19:14:19.386682+06:30\n",
      "pause/resume pairs: ((datetime.datetime(2023, 12, 26, 19, 13, 55, 269572, tzinfo=<DstTzInfo 'Asia/Yangon' +0630+6:30:00 STD>), datetime.datetime(2023, 12, 26, 19, 14, 3, 841466, tzinfo=<DstTzInfo 'Asia/Yangon' +0630+6:30:00 STD>)),)\n"
     ]
    }
   ],
   "source": [
    "session.stop_tracking()\n",
    "print(\"study-session stopped. Well done!\")\n",
    "print(f\"state:\", session.state)\n",
    "print(f\"start time:\", session.start_time)\n",
    "print(f\"stop time:\", session.stop_time)\n",
    "print(f\"pause/resume pairs:\", session.pause_resume_times)"
   ]
  },
  {
   "cell_type": "markdown",
   "id": "43c1e452-0d54-4cc9-ba89-7cc9d716e3d5",
   "metadata": {},
   "source": [
    "### Analyzing Your Study Time Data\n",
    "\n",
    "Finally, to analyze how much time you spent studying:"
   ]
  },
  {
   "cell_type": "code",
   "execution_count": 10,
   "id": "561362da-d81f-47da-8c8c-0724ce7f1a8a",
   "metadata": {},
   "outputs": [
    {
     "name": "stdout",
     "output_type": "stream",
     "text": [
      "duration: 29.802477\n",
      "active duration: 21.230583\n",
      "cumulative pause duration: 8.571894\n"
     ]
    }
   ],
   "source": [
    "print(\"duration:\", session.get_duration())\n",
    "print(\"active duration:\", session.get_active_duration())\n",
    "print(\"cumulative pause duration:\", session.get_cumulative_pause_duration())"
   ]
  },
  {
   "cell_type": "markdown",
   "id": "4d33bb95-9561-4554-9b3d-853fc96f463f",
   "metadata": {},
   "source": [
    "### Reusing the StudySession Instance (study-session)\n",
    "\n",
    "After analyzing your study time data, you may want to reuse the same study-session object for a new study period. This can be efficiently done using the `reset_tracking` method."
   ]
  },
  {
   "cell_type": "code",
   "execution_count": 11,
   "id": "7fb8ad0e-a2ea-4ed3-a433-47a3751e0f6a",
   "metadata": {},
   "outputs": [
    {
     "name": "stdout",
     "output_type": "stream",
     "text": [
      "reseting study-session completed!\n",
      "state: INACTIVE\n",
      "start time: None\n",
      "stop time: None\n",
      "pause/resume pairs: ()\n"
     ]
    }
   ],
   "source": [
    "session.reset_tracking() # to reuse it, we have to clear the previous data first!\n",
    "print(\"reseting study-session completed!\")\n",
    "print(f\"state:\", session.state)\n",
    "print(f\"start time:\", session.start_time)\n",
    "print(f\"stop time:\", session.stop_time)\n",
    "print(f\"pause/resume pairs:\", session.pause_resume_times)"
   ]
  },
  {
   "cell_type": "markdown",
   "id": "44a31814-b8f8-4180-901e-302b10e185a9",
   "metadata": {},
   "source": [
    "This method resets the study-session data to its initial state. It clears the previous session's data (like start time, stop time, and pause times), making the instance ready for a new tracking.\n",
    "\n",
    "### Important Note:\n",
    "\n",
    "- **Does Not Start Automatically:** It's crucial to understand that `reset_tracking` does not start the tracking automatically. It's simply a way to clear the previous data.\n",
    "- **User Alert:** This feature is intentionally designed to prompt explicit action from you to clear previous data. The class raises exceptions to prevent accidental overwriting of past session data. By using `reset_tracking`, you make a conscious decision to start fresh, ensuring you are fully aware that you're clearing the existing data and beginning anew."
   ]
  },
  {
   "cell_type": "markdown",
   "id": "c00d5c4b-2751-42ef-9396-31253029f877",
   "metadata": {},
   "source": [
    "### Starting Again\n",
    "\n",
    "After reseting, you can start the tracking by calling `start_tracking` again.\n",
    "\n",
    "``` python\n",
    "session.start_tracking()\n",
    "```"
   ]
  },
  {
   "cell_type": "markdown",
   "id": "e073d15f-ce5c-4c93-81bc-e49514cd0c00",
   "metadata": {},
   "source": [
    "## Demo\n",
    "\n",
    "In this demo, we will study for 100 seconds. During this study session period, we will pause two times: the first pause will be for 5 seconds, after which we'll resume tracking. The second pause will be for 10 seconds, followed by resuming the tracking again. Then, we will stop the study-session."
   ]
  },
  {
   "cell_type": "code",
   "execution_count": 12,
   "id": "61cb7893-fcc0-4dd4-9598-8e755e9e163a",
   "metadata": {
    "scrolled": true
   },
   "outputs": [
    {
     "name": "stdout",
     "output_type": "stream",
     "text": [
      "study-session started!\n",
      "First pause for 5 seconds!\n",
      "study-session resumed!\n",
      "Second pause for 10 seconds!\n",
      "study-session resumed again!\n",
      "study-session stopped!\n",
      "First Pause Duration: 00:00:05.0012 seconds\n",
      "Second Pause Duration: 00:00:10.0015 seconds\n",
      "Total Duration: 00:01:40.0050 seconds\n",
      "Active Duration: 00:01:25.0022 seconds\n",
      "Cumulative Pause Duration: 00:00:15.0027 seconds\n"
     ]
    }
   ],
   "source": [
    "import time\n",
    "import pytz\n",
    "from studysession import StudySession\n",
    "\n",
    "# Creating a new study-session in the 'America/New_York' timezone with the subject 'demo'\n",
    "session = StudySession(\"demo\", pytz.timezone('America/New_York'))\n",
    "\n",
    "# Starting the tracking\n",
    "session.start_tracking()\n",
    "print(\"study-session started!\")\n",
    "time.sleep(30)  # Studying for 30 seconds\n",
    "\n",
    "# First pause\n",
    "session.pause_tracking()\n",
    "print(\"First pause for 5 seconds!\")\n",
    "time.sleep(5)  # Pausing for 5 seconds\n",
    "\n",
    "# Resuming after first pause\n",
    "session.resume_tracking()\n",
    "print(\"study-session resumed!\")\n",
    "time.sleep(30)  # Studying for another 30 seconds\n",
    "\n",
    "# Second pause\n",
    "session.pause_tracking()\n",
    "print(\"Second pause for 10 seconds!\")\n",
    "time.sleep(10)  # Pausing for 10 seconds\n",
    "\n",
    "# Resuming after second pause\n",
    "session.resume_tracking()\n",
    "print(\"study-session resumed again!\")\n",
    "time.sleep(25)  # Studying for final 25 seconds\n",
    "\n",
    "# Stopping the tracking\n",
    "session.stop_tracking()\n",
    "print(\"study-session stopped!\")\n",
    "\n",
    "# Calculate the durations for the first and second pauses\n",
    "first_pause_duration = session.get_pause_duration(0)\n",
    "second_pause_duration = session.get_pause_duration(1)\n",
    "\n",
    "# Format the pause durations for display\n",
    "formatted_first_pause = StudySession.format_time(first_pause_duration)\n",
    "formatted_second_pause = StudySession.format_time(second_pause_duration)\n",
    "\n",
    "# Display the pause durations\n",
    "print(f\"First Pause Duration: {formatted_first_pause} seconds\")\n",
    "print(f\"Second Pause Duration: {formatted_second_pause} seconds\")\n",
    "\n",
    "# Calculate the total, active, and cumulative pause durations\n",
    "total_duration = session.get_duration()\n",
    "active_duration = session.get_active_duration()\n",
    "cumulative_pause_duration = session.get_cumulative_pause_duration()\n",
    "\n",
    "# Format the durations for display\n",
    "formatted_total = StudySession.format_time(total_duration)\n",
    "formatted_active = StudySession.format_time(active_duration)\n",
    "formatted_cumulative_pause = StudySession.format_time(cumulative_pause_duration)\n",
    "\n",
    "# Display the results\n",
    "print(f\"Total Duration: {formatted_total} seconds\")\n",
    "print(f\"Active Duration: {formatted_active} seconds\")\n",
    "print(f\"Cumulative Pause Duration: {formatted_cumulative_pause} seconds\")"
   ]
  },
  {
   "cell_type": "markdown",
   "id": "38a11116-a7b8-4f8c-8b70-c7c17de91e4e",
   "metadata": {
    "jp-MarkdownHeadingCollapsed": true
   },
   "source": [
    "**That's all! Thank you for reading to the end. I hope you find my class useful, even though it is basic and simple. By the way, you might wonder why I only wrote documentation and a tutorial for `studysession.py` and not for the other files. The reason is that `studysession.py` is the one I want to highlight. The other files are just for quick and handy operations involving databases and logging. If you're interested in them, feel free to read the code or handle databases in your own way.!**\n",
    "\n",
    "***I wrote the code, created the full documentation, and developed the tutorial and demo all by myself. So, please don't forget to give me credit when sharing.***\n",
    "\n",
    "*If you notice any mistakes or errors, or if you have suggestions, please feel free to email me at mn-module@protonmail.com*"
   ]
  }
 ],
 "metadata": {
  "kernelspec": {
   "display_name": "Python 3 (ipykernel)",
   "language": "python",
   "name": "python3"
  },
  "language_info": {
   "codemirror_mode": {
    "name": "ipython",
    "version": 3
   },
   "file_extension": ".py",
   "mimetype": "text/x-python",
   "name": "python",
   "nbconvert_exporter": "python",
   "pygments_lexer": "ipython3",
   "version": "3.11.4"
  }
 },
 "nbformat": 4,
 "nbformat_minor": 5
}
